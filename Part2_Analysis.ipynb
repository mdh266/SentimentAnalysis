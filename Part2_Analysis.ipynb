{
 "cells": [
  {
   "cell_type": "markdown",
   "metadata": {},
   "source": [
    "# Sentiment Analysis, Part 2: NLP With Spark On Google Cloud\n",
    "---------------\n",
    "\n",
    "__[1. Introduction](#bullet1)__\n",
    "\n",
    "__[2. Creating A GCP Hadoop Cluster ](#bullet2)__\n",
    "\n",
    "__[3. Getting Data From An Atlas Cluter](#bullet3)__\n",
    "\n",
    "__[4. Basic Models With Spark PiplineModels](#bullet4)__\n",
    "\n",
    "__[5. Stemming With Custom Transformers](#bullet5)__\n",
    "\n",
    "__[6. N-Grams And Parameter Tunning With Cross Validation](#bullet6)__\n",
    "\n",
    "__[7. Conclusions](#bullet7)__\n",
    "\n",
    "\n",
    "## Introduction  <a class=\"anchor\" id=\"bullet1\"></a>\n",
    "--------------\n",
    "\n",
    "In the <a href=\"http://michael-harmon.com/blog/SentimentAnalysisP1.html\">first part</a> of this two part blog post I went over the basics of ETL with PySpark and MongoDB.  In this second part I will go over the actual modeling aspect of Sentiment Anlysis using <a href=\"https://spark.apache.org/docs/latest/ml-guide.html\">SparkML</a> (aka MLlib it seems the name is changing).  Specifically, well be using <a href=\"https://spark.apache.org/docs/latest/ml-pipeline.html\">MLPipelines</a> and <a href=\"https://en.wikipedia.org/wiki/Logistic_regression\">Logistic Regression</a> to build a basic linear classifier for sentiment.  Then well introduce a custom <a href=\"https://spark.apache.org/docs/1.6.2/ml-guide.html#transformers\">Transformer</a> class which uses the <a href=\"https://www.nltk.org/\">NLTK</a> to performing stemming.  Lastly, well inroduce N-grams and go over <a href=\"https://spark.apache.org/docs/latest/ml-tuning.html\">hyper-parameter tunning</a> with cross-validation. The point of this post *is not too build the best classifier on a huge dataset, but rather to show how to piece together advanced concepts into a ML Pipeline using PySpark.*\n",
    "\n",
    "That said we will continue to use the 1.6 million <a href=\"https://www.kaggle.com/kazanova/sentiment140\">tweets</a> from Kaggle which I loaded onto my <a href=\"https://www.mongodb.com/cloud/atlas\">Atlas MongoDB</a> cluster with the Spark job that was discussed in the last post.  While 1.6 million tweets doesn't necessitate a distributed environment, using PySpark on this datset was a little too much my whimpy 2013 Macbook Air and I needed to use a more powerful machine.  Luckily <a href=\"https://cloud.google.com/\">Google Cloud Platform</a> (GCP) gives everyone free credits to start using their platform and I was able to use Spark on a <a href=\"https://hadoop.apache.org/\">Hadoop</a> cluster using <a href=\"https://cloud.google.com/dataproc/\">dataproc</a> and <a href=\"https://cloud.google.com/datalab/\">datalab</a>. \n",
    "\n",
    "\n",
    "Let's get started!\n",
    "\n",
    "\n",
    "## Creating A GCP Hadoop Cluster  <a class=\"anchor\" id=\"bullet2\"></a>\n",
    "---------\n",
    "I have been using Hadoop and Spark for quite some time now, but have never spun up my own cluster and gained a new found respect for Hadoop admins.  Google does make the process easy, but I had to ask a friend for help.  Between getting the correct version of Python as well as the correct version of NLTK on both the driver and worker nodes, the correct MongoDB connector for PySpark 2.3.2 and the time it takes to spin up and shut down a cluster I was very much over configuting clusters on my own.  I want to say that made me a better person or atleast data scientist, but I'm not so sure. :)\n",
    "\n",
    "On the GCP free trial I could only pass use two worker nodes and the command to create a Hadoop clsuter with two nodes is shown below:\n",
    "\n",
    "![](images/CreateCluster.png)\n",
    "\n",
    "You can see the connector for MongoDB as well as the version of Python in the strings above.  The bash scripts reference in my Google storage bucket for this project can be seen in my repo <a href=\"https://github.com/mdh266/TwitterSentimentAnalysis/tree/master/GCP\">here</a>.  After the cluster is created we  can ssh onto the master node by going to the console and click on \"*Compute Enginee* tab.  You will see a page like the one below:\n",
    "\n",
    "![](images/MasterNode.png)\n",
    "\n",
    "We can ssh on the master node using the ssh tap to the right of the instance name **mikescluster-m**.  The \"-m\" signifies it is the master node while the other instances have \"-w\" signifiying they are worker ndoes. After connecting to the mater node you can see all the <a href=\"https://data-flair.training/blogs/top-hadoop-hdfs-commands-tutorial/\">Hadoop commands</a> available:\n",
    "\n",
    "\n",
    "![](images/HDFS.png)\n",
    "\n",
    "However, we won't work on our Hadoop cluster through command line and connect to through Jupyter notebooks using Google <a href=\"https://cloud.google.com/datalab/\">datalab</a>. This involves creating an ssh-tunnel and proxy for Chrome, both of which I had no idea how to do, but luckily had friend walk me through it.  The bash scripts I used to do these last two steps are located in my repo <a href=\"https://github.com/mdh266/TwitterSentimentAnalysis/tree/master/GCP\">here</a>. After those steps were completed we can just go to the address\n",
    "\n",
    "    http://mikescluster-m:8080\n",
    " \n",
    "To see the Jupyter notebooks.  Note that that notebooks are running of the master node on port 8080 and that <a href=\"https://hadoop.apache.org/docs/current/hadoop-yarn/hadoop-yarn-site/YARN.html\">YARN</a> can be see from the same address but with port 8088.  Now that we have our Hadoop cluster up and running on GCP we need to access our data.\n",
    "\n",
    "## Getting The Dataset From An Atlas Cluster <a class=\"anchor\" id=\"bullet3\"></a>\n",
    "---------\n",
    "\n",
    "As I mentioned in the introduction I loaded the cleaned Twitter dataset into my Atlast MongoDB cluster.  The ETL job was discussed in the previous <a href=\"http://michael-harmon.com/blog/SentimentAnalysisP1.html\">post</a> and in this post I will just show how to connect PySpark to the MongoDB database.  The only thing I will note is that to keep my collection with the limits of the free tier of Atlas I had to store the data as strings and not tokenized, so we'll do that again here.\n",
    "\n",
    "First step, however, is that we need to create a connection url string containing the cluster address, user info, as well as database and collection name in the dictionary below:"
   ]
  },
  {
   "cell_type": "code",
   "execution_count": 1,
   "metadata": {},
   "outputs": [],
   "source": [
    "mongo_conn = {\"address\"    : \"harmoncluster-xsarp.mongodb.net/\", \n",
    "              \"db_name\"    : \"db_twitter\",\n",
    "              \"collection\" : \"tweets\",\n",
    "              \"user\"       : \"\",\n",
    "              \"password\"   : \"\"}\n",
    "\n",
    "url   = \"mongodb+srv://{user}:{password}@{address}{db_name}.{collection}\".format(**mongo_conn)"
   ]
  },
  {
   "cell_type": "markdown",
   "metadata": {},
   "source": [
    "Then we read documents the collection using the <code>spark.read</code> command passing in that we are using MongoDB as the format and the url as our option:"
   ]
  },
  {
   "cell_type": "code",
   "execution_count": 8,
   "metadata": {},
   "outputs": [],
   "source": [
    "df = spark.read\\\n",
    "          .format(\"com.mongodb.spark.sql.DefaultSource\")\\\n",
    "          .option(\"uri\",url)\\\n",
    "          .load()"
   ]
  },
  {
   "cell_type": "markdown",
   "metadata": {},
   "source": [
    "At this point, while the data hasn't quite been pulled from the source yet we would seen an error if the was a mistake in our connection string.  While we have not all the document from the Atlas cluster to our Hadoop cluster we have pulled metadata on the collection and can infer schema using the command below:"
   ]
  },
  {
   "cell_type": "code",
   "execution_count": 9,
   "metadata": {},
   "outputs": [
    {
     "name": "stdout",
     "output_type": "stream",
     "text": [
      "root\n",
      " |-- _id: struct (nullable = true)\n",
      " |    |-- oid: string (nullable = true)\n",
      " |-- sentiment: integer (nullable = true)\n",
      " |-- tweet_clean: string (nullable = true)\n",
      "\n"
     ]
    }
   ],
   "source": [
    "df.printSchema()"
   ]
  },
  {
   "cell_type": "markdown",
   "metadata": {},
   "source": [
    "You can see that each document has an <code>id</code>, <code>sentiment</code> and the cleaneed tweet, <code>tweet_clean</code>.  We re tokenize the clean tweets and rename the sentiment column of our dataframe:"
   ]
  },
  {
   "cell_type": "code",
   "execution_count": 10,
   "metadata": {},
   "outputs": [],
   "source": [
    "from pyspark.ml.feature import Tokenizer\n",
    "tokenizer = Tokenizer(inputCol  = \"tweet_clean\",\n",
    "                      outputCol = \"tokens\")\n",
    "\n",
    "df2 = tokenizer.transform(df)\\\n",
    "               .select(\"tokens\",\"sentiment\")\\\n",
    "               .withColumnRenamed(\"sentiment\", \"label\")"
   ]
  },
  {
   "cell_type": "markdown",
   "metadata": {},
   "source": [
    "Then we split into training and testing sets with a seed (1234) below,"
   ]
  },
  {
   "cell_type": "code",
   "execution_count": 11,
   "metadata": {},
   "outputs": [],
   "source": [
    "train, test = df2.randomSplit([0.80, 0.20], 1234)"
   ]
  },
  {
   "cell_type": "markdown",
   "metadata": {},
   "source": [
    "Now we can look at the number of training tweets with positive and negative sentiment below. Note, since our well be using this dataframe multiple times in the machine learning pipelines we cache it for better performance."
   ]
  },
  {
   "cell_type": "code",
   "execution_count": 12,
   "metadata": {},
   "outputs": [
    {
     "data": {
      "text/plain": [
       "DataFrame[tokens: array<string>, label: int]"
      ]
     },
     "execution_count": 12,
     "metadata": {},
     "output_type": "execute_result"
    }
   ],
   "source": [
    "train.cache()"
   ]
  },
  {
   "cell_type": "code",
   "execution_count": 13,
   "metadata": {},
   "outputs": [
    {
     "name": "stdout",
     "output_type": "stream",
     "text": [
      "+-----+------+\n",
      "|label| count|\n",
      "+-----+------+\n",
      "|    1|638006|\n",
      "|    0|638503|\n",
      "+-----+------+\n",
      "\n"
     ]
    }
   ],
   "source": [
    "train.groupby(\"label\")\\\n",
    "     .count()\\\n",
    "     .show()"
   ]
  },
  {
   "cell_type": "markdown",
   "metadata": {},
   "source": [
    "We can see that the classes are well balanced with nearly half a million positive and negative teets.  We do the same for the test set:"
   ]
  },
  {
   "cell_type": "code",
   "execution_count": 14,
   "metadata": {},
   "outputs": [
    {
     "data": {
      "text/plain": [
       "DataFrame[tokens: array<string>, label: int]"
      ]
     },
     "execution_count": 14,
     "metadata": {},
     "output_type": "execute_result"
    }
   ],
   "source": [
    "test.cache()"
   ]
  },
  {
   "cell_type": "code",
   "execution_count": 15,
   "metadata": {},
   "outputs": [
    {
     "name": "stdout",
     "output_type": "stream",
     "text": [
      "+-----+------+\n",
      "|label| count|\n",
      "+-----+------+\n",
      "|    1|159530|\n",
      "|    0|159963|\n",
      "+-----+------+\n",
      "\n"
     ]
    }
   ],
   "source": [
    "test.groupby(\"label\")\\\n",
    "    .count()\\\n",
    "    .show()"
   ]
  },
  {
   "cell_type": "markdown",
   "metadata": {},
   "source": [
    "Again, the classes in the test sets are well balanced.  This is great because we don't have to worry about dealing with imbalanced classes and accuracy and ROC's area under the curve (AUC) are good metrics to see how well our models are performing.\n",
    "\n",
    "Normally, I would do some exploratory data analysis on the dataset, but I given that I'm paying for time on a cluster I would rather stick to showing how to create Spark ML Pipelines in this post."
   ]
  },
  {
   "cell_type": "markdown",
   "metadata": {},
   "source": [
    "## Basic Pipeline Classifiers <a class=\"anchor\" id=\"bullet4\"></a>\n",
    "------------\n",
    "In this section well go over using a basic logistic regression model using Spark <a href=\"https://spark.apache.org/docs/latest/ml-pipeline.html\">MLPipelines</a> which are similar to <a href=\"https://scikit-learn.org/stable/modules/generated/sklearn.pipeline.Pipeline.html\">Scikit-learn Pipelines</a>.  One thing to note is that I have already tokenized my tweets before writting them to the MongoDB datbase so there is no need to use the <a href=\"https://spark.apache.org/docs/2.1.0/ml-features.html#tokenizer\">Tokenizer</a> class in any of our pipelines.\n",
    "\n",
    "\n",
    "We import the basic modules below:"
   ]
  },
  {
   "cell_type": "code",
   "execution_count": 16,
   "metadata": {},
   "outputs": [],
   "source": [
    "from pyspark.ml import Pipeline\n",
    "from pyspark.ml.feature import CountVectorizer, IDF\n",
    "from pyspark.ml.classification import LogisticRegression\n",
    "from pyspark.ml.evaluation import BinaryClassificationEvaluator"
   ]
  },
  {
   "cell_type": "markdown",
   "metadata": {},
   "source": [
    "Next we instantiate our classification evalutor class and pass the label of the output column from pipeline model:"
   ]
  },
  {
   "cell_type": "code",
   "execution_count": 17,
   "metadata": {},
   "outputs": [
    {
     "data": {
      "text/plain": [
       "'areaUnderROC'"
      ]
     },
     "execution_count": 17,
     "metadata": {},
     "output_type": "execute_result"
    }
   ],
   "source": [
    "evaluator = BinaryClassificationEvaluator(rawPredictionCol=\"rawPrediction\")\n",
    "\n",
    "# get the name of the metric used\n",
    "evaluator.getMetricName()"
   ]
  },
  {
   "cell_type": "markdown",
   "metadata": {},
   "source": [
    "We'll be using the <a href=\"https://en.wikipedia.org/wiki/Bag-of-words_model\">**bag of words model**</a> to build features from tweets to be feed into the model.  *In the bag-of-words model, a document (in this case tweet) is represented as \"bag\" or list of its words, disregarding grammar and ordering, but keeping the multiplicity of the words.*  A two document example is:\n",
    "\n",
    "- **D1:**  Hi, I am Mike and I like Boston.\n",
    "\n",
    "- **D2:**  Boston is a city and people in Boston like the Red Sox.\n",
    "\n",
    "From these two documents, a list, or 'bag-of-words' is constructed\n",
    "\n",
    "    bag = ['Hi', 'I', 'am', 'Mike', 'and', 'like', 'Boston', 'is', \n",
    "           'a', 'city, 'and', 'people', 'in', 'the', 'red', 'sox]\n",
    "\n",
    "\n",
    "Notice how in our bag-of-words we have dropped repetitions of the words 'I', 'is' and 'Mike', we will show how multiplicity of words enters into our model next. \n",
    "\n",
    "The bag-of-words model is mainly used as a tool of feature generation. After transforming the text into a \"bag of words\", we can calculate various measures to characterize the document.  In order to do so we have to generate a vector for each document that represents the number of times each entry in the bag of words appears in the text. The order of entries in the vector corresponds to the order of the entries in the bag-of-words list.  For example, document D1 would have a vector,\n",
    "\n",
    "    [1, 2, 1, 1, 1, 1, 1, 0, 0, 0, 0 ,0, 0, 0, 0, 0]\n",
    "    \n",
    "while the second document, D2, would have the vector,\n",
    "\n",
    "    [0, 0, 0, 0, 0, 0, 1, 2, 1, 1, 1, 1, 1, 1, 1, 1]\n",
    "\n",
    "Each entry of the lists refers to frequency or count of the corresponding entry in the bag-of-words list.  When we have a stacked collection of (row) vectors, or matrix, where each row corresponds to a document (vector), and each column corresponds to a word in the bag-of-words list, then this will be known as our **term-frequency ($\\text{tf}$) [document matrix](https://en.wikipedia.org/wiki/Document-term_matrix)**. The general formula for an entry in the $\\text{tf}$ matrix is,\n",
    "\n",
    "$$\\text{tf}(d,t) \\,  = \\, f_{t,d}$$\n",
    "    \n",
    "where $f_{t,d}$ is the number of times the term $t$ occurs in document $d \\in \\mathcal{D}$, where $\\mathcal{D}$ is our text corpus.  We can create a term-frequency matrix using Spark's <a href=\"https://spark.apache.org/docs/latest/ml-features.html#countvectorizer\">CountVectorizer</a> class.  \n",
    "\n",
    "Most often term-frequency alone is not a good measure of the importance of a word/term to a document's topic.  Very common words like \"the\", \"a\", \"to\" are almost always the terms with the highest frequency in the text. Thus, having a high raw count of the number of times a term appears in a document does not necessarily mean that the corresponding word is more important. Furtermore, longer documents could have high frequency of terms that do not correlate with the document topic, but instead occur with high numbers solely due to the length of the document.\n",
    "\n",
    "To circumvent the limination of term-frequency, we often normalize it by the **inverse document frequency (idf)**.  This results in the **term frequency-inverse document frequency (tf-idf)** matrix.  The *inverse document frequency is a measure of how much information the word provides, that is, whether the term is common or rare across all documents in the corpus*.  We can give a formal defintion of the inverse-document-frequency by letting $\\mathcal{D}$ be the corpus or the set of all documents and $N$ is the number of documents in the corpus and $N_{t,D}$ be the number of documents that contain the term $t$ then, \n",
    "\n",
    "$$idf(t,\\mathcal{D}) \\, = \\,  \\log\\left(\\frac{N_{\\mathcal{D}}}{1 + N_{t,\\mathcal{D}}}\\right) \\, = \\, -  \\log\\left(\\frac{1 + N_{t,\\mathcal{D}}}{N_{\\mathcal{D}}}\\right) $$\n",
    "\n",
    "The reason for the presence of the $1$ is for smoothing.  Without it, if the term/word did not appear in any training documents, then its inverse-document-frequency would be $idf(t,\\mathcal{D}) = \\infty$.  However, with the presense of the $1$ it will now have $idf(t,\\mathcal{D}) = 0$.\n",
    "\n",
    "\n",
    "Now we can formally defined the term frequnecy-inverse document frequency as a normalized version of term-frequency,\n",
    "\n",
    "\n",
    "$$\\text{tf-idf}(t,d) \\, = \\, tf(t,d) \\cdot idf(t,\\mathcal{D}) $$\n",
    "\n",
    "Like the term-frequency, the term frequency-inverse document frequency is a sparse matrix, where again, each row is a document in our training corpus ($\\mathcal{D}$) and each column corresponds to a term/word in the bag-of-words list.  The $\\text{tf-idf}$ matrix can be constructed using the sklearn <a href=\"https://spark.apache.org/docs/latest/ml-features.html#tf-idf\">IDF</a> class.\n",
    "\n",
    "\n",
    "The basic pipeline we use includes:\n",
    "\n",
    "    - tokenization (done previously)\n",
    "    - creating term frequency\n",
    "    - creating term frequency inverse document frequency \n",
    "    - fitting a logistic regression model to the BOW created from the previou steps\n",
    "    \n",
    "This is all done in the short few lines below:"
   ]
  },
  {
   "cell_type": "code",
   "execution_count": 18,
   "metadata": {},
   "outputs": [],
   "source": [
    "# create term frequencies from tokens\n",
    "tf1 = CountVectorizer(inputCol=\"tokens\", outputCol=\"rawFeatures\")\n",
    "\n",
    "# create tf-idfs from the term frequneies\n",
    "idf = IDF(inputCol=\"rawFeatures\", outputCol=\"features\")\n",
    "\n",
    "# create basic logistic regression model\n",
    "lr = LogisticRegression(maxIter=20)\n",
    "\n",
    "# create basic pipeline\n",
    "basic_pipeline = Pipeline(stages=[tf1, idf, lr])"
   ]
  },
  {
   "cell_type": "markdown",
   "metadata": {},
   "source": [
    "Now we can train perform feature extraction (tf-idf) and train the model all with the following command:"
   ]
  },
  {
   "cell_type": "code",
   "execution_count": 19,
   "metadata": {},
   "outputs": [],
   "source": [
    "model1         = basic_pipeline.fit(train)"
   ]
  },
  {
   "cell_type": "markdown",
   "metadata": {},
   "source": [
    "Once we have trained the pipeline model we can predict it's perfromance on the test set using the <code>transform</code> method and using the <code>evaluate</code> method of the evaluator object."
   ]
  },
  {
   "cell_type": "code",
   "execution_count": 20,
   "metadata": {},
   "outputs": [
    {
     "name": "stdout",
     "output_type": "stream",
     "text": [
      "AUC SCORE: 0.9105776502556013\n"
     ]
    }
   ],
   "source": [
    "# predict on test set\n",
    "predictions1   = model1.transform(test)\n",
    "\n",
    "# get the performance on the test set\n",
    "score1         = evaluator.evaluate(predictions1)\n",
    "\n",
    "print(\"AUC SCORE: {}\".format(score1))"
   ]
  },
  {
   "cell_type": "markdown",
   "metadata": {},
   "source": [
    "91% of the area under the ROC curve is very good, but let's see if we can make easy any improvements"
   ]
  },
  {
   "cell_type": "markdown",
   "metadata": {},
   "source": [
    "### Removing Stop Words\n",
    "\n",
    "One thing people usually do is to remove stop words, i.e. common words that do not add any additional information into the model.  Examples of stop words are: 'a', 'the', 'and', etc.  We remove stop words from in our  tokens by using the <a href=\"https://spark.apache.org/docs/2.1.0/ml-features.html#stopwordsremover\">StopWordsRemover</a> class."
   ]
  },
  {
   "cell_type": "code",
   "execution_count": 21,
   "metadata": {},
   "outputs": [],
   "source": [
    "from pyspark.ml.feature import StopWordsRemover"
   ]
  },
  {
   "cell_type": "markdown",
   "metadata": {},
   "source": [
    "We can instantiate a new StopWordsRemover object, changing the input column name for the CountVectorizer to be the output column name of the StopWordRemover and create our new pipeline."
   ]
  },
  {
   "cell_type": "code",
   "execution_count": 22,
   "metadata": {},
   "outputs": [],
   "source": [
    "sw  = StopWordsRemover(inputCol=\"tokens\", outputCol=\"filtered\")\n",
    "tf2 = CountVectorizer(inputCol=\"filtered\", outputCol=\"rawFeatures\")\n",
    "\n",
    "stopwords_pipleline = Pipeline(stages=[sw, tf2, idf, lr])"
   ]
  },
  {
   "cell_type": "markdown",
   "metadata": {},
   "source": [
    "Then we train model and evaluate its performance on the test set:"
   ]
  },
  {
   "cell_type": "code",
   "execution_count": 23,
   "metadata": {},
   "outputs": [
    {
     "name": "stdout",
     "output_type": "stream",
     "text": [
      "AUC SCORE: 0.9013580561679387\n"
     ]
    }
   ],
   "source": [
    "model2         = stopwords_pipleline.fit(train)\n",
    "predictions2   = model2.transform(test)\n",
    "score2         = evaluator.evaluate(predictions2)\n",
    "\n",
    "print(\"AUC SCORE: {}\".format(score2))"
   ]
  },
  {
   "cell_type": "markdown",
   "metadata": {},
   "source": [
    "We can see in this case that AUC score went down slightly with removing stop words.  This is probably because each of the tweets was rather small (number of characters wise).  Our model was probably overfitting to stop words and giving them informational value it shouldn't.  In any case, in this post were not too concerned about the performance as showing how all the pieces of machine leanring with Spark can be tied together with pipelines.\n",
    "\n",
    "## Stemming With Customer Tranformers <a class=\"anchor\" id=\"bullet5\"></a>\n",
    "------------\n",
    "\n",
    "We will use the Natural Language Tool Kit (<a href=\"https://www.nltk.org/\">NLTK</a> ) with the Porter Stemmer for stemming.  Stemming is the process of reducing words down to their root,  for example from Wikipedia :\n",
    "\n",
    "...the Porter algorithm reduces, argue, argued, argues, arguing, and argus to the stem argu \n",
    "\n",
    "Stemming is used as an approximate method for grouping words with a similar basic meaning together.  For NLP and the bag of words model this reduces the dimension of our featur space since variations in words that would normally be counted seperately are reduced to one word that is counted collectively.\n",
    "\n",
    "\n",
    "For some reason gcloud kept installing the wrong version of NLTK and inorder to get the correct version on the driver and workers I had to install within the notebook"
   ]
  },
  {
   "cell_type": "code",
   "execution_count": 24,
   "metadata": {},
   "outputs": [
    {
     "name": "stdout",
     "output_type": "stream",
     "text": [
      "Requirement already up-to-date: nltk==3.4 in /usr/local/envs/py3env/lib/python3.5/site-packages (3.4)\n",
      "Requirement already satisfied, skipping upgrade: six in /usr/local/envs/py3env/lib/python3.5/site-packages (from nltk==3.4) (1.10.0)\n",
      "Requirement already satisfied, skipping upgrade: singledispatch in /usr/local/envs/py3env/lib/python3.5/site-packages (from nltk==3.4) (3.4.0.3)\n"
     ]
    }
   ],
   "source": [
    "%sh\n",
    "pip install -U nltk==3.4"
   ]
  },
  {
   "cell_type": "markdown",
   "metadata": {},
   "source": [
    "We can now import the NLTK to and check its version is correct"
   ]
  },
  {
   "cell_type": "code",
   "execution_count": 25,
   "metadata": {},
   "outputs": [
    {
     "name": "stdout",
     "output_type": "stream",
     "text": [
      "3.4\n"
     ]
    }
   ],
   "source": [
    "import nltk\n",
    "print(nltk.__version__)\n",
    "from nltk.stem.porter import PorterStemmer"
   ]
  },
  {
   "cell_type": "markdown",
   "metadata": {},
   "source": [
    "We can show an example how to stemming works on a sentence by first instantiating the PorterStemmer object and tokenizing a sentence:"
   ]
  },
  {
   "cell_type": "code",
   "execution_count": 18,
   "metadata": {},
   "outputs": [
    {
     "name": "stdout",
     "output_type": "stream",
     "text": [
      "raw_tokens: ['my', 'feelings', 'having', 'studied', 'all', 'day']\n"
     ]
    }
   ],
   "source": [
    "stemmer = PorterStemmer()\n",
    "\n",
    "tokens         = \"my feelings having studied all day\".split(\" \")\n",
    "print(\"raw tokens: {}\".format(tokens))"
   ]
  },
  {
   "cell_type": "markdown",
   "metadata": {},
   "source": [
    "we can then apply the stemmer's stem function to each token in the array:"
   ]
  },
  {
   "cell_type": "code",
   "execution_count": 19,
   "metadata": {},
   "outputs": [
    {
     "name": "stdout",
     "output_type": "stream",
     "text": [
      "clean tokens: ['my', 'feelings', 'having', 'studied', 'all', 'day']\n"
     ]
    }
   ],
   "source": [
    "tokens_stemmed = [stemmer.stem(token) for token in tokens]\n",
    "print(\"clean tokens: {}\".format(tokens))"
   ]
  },
  {
   "cell_type": "markdown",
   "metadata": {},
   "source": [
    "In order to user the Porter stemmer within a PySpark ML Pipeline we must create as a <a href=\"https://spark.apache.org/docs/latest/ml-pipeline.html#transformers\">Transformer</a>.  Transformer allow us to apply non-Spark functions and transformations as stages within our MLPipeline.  We create a customer PortersStemming class which extends PySparks Transformer class, HasInputCol class and HasOutputCol class, see <a href=\"https://github.com/apache/spark/blob/master/python/pyspark/ml/param/shared.py\">here</a> for class definitions."
   ]
  },
  {
   "cell_type": "code",
   "execution_count": 11,
   "metadata": {},
   "outputs": [],
   "source": [
    "from pyspark import keyword_only\n",
    "import pyspark.sql.functions as F\n",
    "from pyspark.sql import DataFrame\n",
    "from pyspark.sql.types import ArrayType, StringType\n",
    "from pyspark.ml import Transformer\n",
    "from pyspark.ml.param.shared import HasInputCol, HasOutputCol, Param\n",
    "\n",
    "\n",
    "class PorterStemming(Transformer, HasInputCol, HasOutputCol):\n",
    "    \"\"\"\n",
    "    This comes from https://stackoverflow.com/questions/32331848/create-a-custom-transformer-in-pyspark-ml\n",
    "    Adapted to work with the Porter Stemmer from NLTK.\n",
    "    \"\"\"\n",
    "    \n",
    "    @keyword_only\n",
    "    def __init__(self, \n",
    "                 inputCol  : str = None, \n",
    "                 outputCol : str = None, \n",
    "                 min_size  : int = None):\n",
    "      \"\"\"\n",
    "      Constructor takes in the input column name, output column name,\n",
    "      plus the minimum legnth of a token (min_size)/\n",
    "      \"\"\"\n",
    "      # call Transformer classes constructor since were extending it.\n",
    "      super(Transformer, self).__init__()\n",
    "\n",
    "      #set Parameter objects minimum token size\n",
    "      self.min_size = Param(self, \"min_size\", \"\")\n",
    "      self._setDefault(min_size=0)\n",
    "\n",
    "      # set the input keywork arguments\n",
    "      kwargs = self._input_kwargs\n",
    "      self.setParams(**kwargs)\n",
    "\n",
    "      # initialize Stemmer object\n",
    "      self.stemmer  = PorterStemmer()\n",
    "\n",
    "        \n",
    "    @keyword_only\n",
    "    def setParams(self, \n",
    "                  inputCol  : str = None, \n",
    "                  outputCol : str = None, \n",
    "                  min_size  : int = None\n",
    "      ) -> None:\n",
    "      \"\"\"\n",
    "      Function to set the keyword arguemnts\n",
    "      \"\"\"\n",
    "      kwargs = self._input_kwargs\n",
    "      return self._set(**kwargs)\n",
    "    \n",
    "\n",
    "    def _stem_func(self, words  : list) -> list:\n",
    "      \"\"\"\n",
    "      Stemmer function call.\n",
    "      \"\"\"\n",
    "      # We need a way to get min_size and cant access it \n",
    "      # with self.min_size\n",
    "      min_size       = self.getMinSize()\n",
    "      # stemm that actual tokens\n",
    "      stemmed_words  = map(self.stemmer.stem, words)\n",
    "      # now create the new list of tokens by filtering out those\n",
    "      # that are not of legnth > min_size\n",
    "      filtered_words = filter(lambda x: len(x) > min_size, stemmed_words)\n",
    "\n",
    "      return list(filtered_words)\n",
    "    \n",
    "    def _transform(self, df: DataFrame) -> DataFrame:\n",
    "      \"\"\"\n",
    "      Transform function is the function that is called in the \n",
    "      \"\"\"\n",
    "      \n",
    "      out_col       = self.getOutputCol()\n",
    "      in_col        = self.getInputCol()\n",
    "\n",
    "      # create the stemming function udf by wrapping the stemmer \n",
    "      # method function\n",
    "      stem_func_udf = F.udf(self._stem_func, ArrayType(StringType()))\n",
    "      df2           = df.withColumn(out_col, stem_func_udf(df[in_col]))\n",
    "   \n",
    "      return df2\n",
    "  \n",
    "  \n",
    "    def setMinSize(self,value):\n",
    "      self._paramMap[self.min_size] = value\n",
    "      return self\n",
    "\n",
    "    def getMinSize(self) -> int:\n",
    "      return self.getOrDefault(self.min_size)\n",
    "\n",
    "        "
   ]
  },
  {
   "cell_type": "markdown",
   "metadata": {},
   "source": [
    "The keys of creating this derived class are to \n",
    "\n",
    "1. Create a <code>Param</code> in the constructor which will hold our user defined parameter names, values and default values.\n",
    "\n",
    "2. \n",
    "\n",
    "3. A <code>_transform</code> which applies a customer transformation to the <code>inputCol</code> to return a new column with name <code>outputCol</code>\n"
   ]
  },
  {
   "cell_type": "code",
   "execution_count": null,
   "metadata": {},
   "outputs": [],
   "source": []
  },
  {
   "cell_type": "code",
   "execution_count": 71,
   "metadata": {},
   "outputs": [],
   "source": [
    "# create stemming object \n",
    "stem = PorterStemming(inputCol=\"filtered\", outputCol=\"stemmed\")\n",
    "\n",
    "# create new CountVectorizer object\n",
    "tf3 = CountVectorizer(inputCol=\"stemmed\", outputCol=\"rawFeatures\")\n",
    "\n",
    "# create new pipline\n",
    "stemming_pipeline  = Pipeline(stages= [sw, stem, tf3, idf, lr])\n",
    "\n",
    "# fit and get predictions\n",
    "model3         = stemming_pipeline.fit(train)\n",
    "predictions3   = model3.transform(test)\n",
    "score3         = evaluator.evaluate(predictions3)"
   ]
  },
  {
   "cell_type": "code",
   "execution_count": 72,
   "metadata": {},
   "outputs": [
    {
     "name": "stdout",
     "output_type": "stream",
     "text": [
      "AUC SCORE: 0.9050744113870046\n"
     ]
    }
   ],
   "source": [
    "print(\"AUC SCORE: {}\".format(score3))"
   ]
  },
  {
   "cell_type": "markdown",
   "metadata": {},
   "source": [
    "Not too much of an improvement."
   ]
  },
  {
   "cell_type": "code",
   "execution_count": 22,
   "metadata": {},
   "outputs": [],
   "source": [
    "stop_and_step_pipeline = Pipeline(stages= [sw, stem]).fit(train)"
   ]
  },
  {
   "cell_type": "code",
   "execution_count": 23,
   "metadata": {},
   "outputs": [],
   "source": [
    "train_stem = stop_and_step_pipeline.transform(train)\n",
    "test_stem  = stop_and_step_pipeline.transform(test)\n",
    "\n",
    "# cache them\n",
    "train_stem.cache()\n",
    "test_stem.cache()"
   ]
  },
  {
   "cell_type": "markdown",
   "metadata": {},
   "source": [
    "## N-Grams And Parameter Tunning With Cross Validation <a class=\"anchor\" id=\"bullet6\"></a>\n",
    "--------------------"
   ]
  },
  {
   "cell_type": "code",
   "execution_count": 52,
   "metadata": {},
   "outputs": [],
   "source": [
    "from pyspark.ml.feature import NGram\n",
    "\n",
    "bigram = NGram(inputCol=\"stemmed\",\n",
    "              outputCol=\"bigrams\",\n",
    "              n=2)\n",
    "\n",
    "tf4   = CountVectorizer(inputCol=\"bigrams\", outputCol=\"rawFeatures\")\n",
    "\n",
    "bigram_pipeline  = Pipeline(stages= [sw, bigram, tf4, idf, lr])\n",
    "\n",
    "model4           = bigram_pipeline.fit(train_stem)\n",
    "predictions4     = model4.transform(test_stem)\n",
    "\n",
    "score4           = evaluator.evaluate(predictions4)"
   ]
  },
  {
   "cell_type": "code",
   "execution_count": 53,
   "metadata": {},
   "outputs": [
    {
     "name": "stdout",
     "output_type": "stream",
     "text": [
      "AUC SCORE: 0.9258992079438101\n"
     ]
    }
   ],
   "source": [
    "print(\"AUC SCORE: {}\".format(score4))"
   ]
  },
  {
   "cell_type": "markdown",
   "metadata": {},
   "source": [
    "blah blah blah"
   ]
  },
  {
   "cell_type": "code",
   "execution_count": 55,
   "metadata": {},
   "outputs": [],
   "source": [
    "from pyspark.ml.tuning import CrossValidator, ParamGridBuilder\n",
    "\n",
    "paramGrid = ParamGridBuilder() \\\n",
    "                        .addGrid(tf4.minDF, [1.0, 3.0, 5.0]) \\\n",
    "                        .build()\n",
    "     \n",
    "crossval = CrossValidator(estimator          = bigram_pipeline,\n",
    "                          estimatorParamMaps = paramGrid,\n",
    "                          evaluator          = BinaryClassificationEvaluator(),\n",
    "                          numFolds           = 3)\n",
    "\n",
    "model    = crossval.fit(train_stem)"
   ]
  },
  {
   "cell_type": "markdown",
   "metadata": {},
   "source": [
    "Make predictions on test set"
   ]
  },
  {
   "cell_type": "code",
   "execution_count": 56,
   "metadata": {},
   "outputs": [],
   "source": [
    "\n",
    "predictions   = model.transform(test_stem)\n",
    "\n",
    "score         = evaluator.evaluate(predictions)"
   ]
  },
  {
   "cell_type": "code",
   "execution_count": 57,
   "metadata": {},
   "outputs": [
    {
     "name": "stdout",
     "output_type": "stream",
     "text": [
      "AUC SCORE: 0.9236064128788266\n"
     ]
    }
   ],
   "source": [
    "print(\"AUC SCORE: {}\".format(score))"
   ]
  },
  {
   "cell_type": "code",
   "execution_count": 59,
   "metadata": {},
   "outputs": [],
   "source": [
    "bestModel = model.bestModel"
   ]
  },
  {
   "cell_type": "code",
   "execution_count": null,
   "metadata": {},
   "outputs": [],
   "source": []
  },
  {
   "cell_type": "code",
   "execution_count": null,
   "metadata": {},
   "outputs": [],
   "source": []
  },
  {
   "cell_type": "markdown",
   "metadata": {},
   "source": [
    "<code>TrainValidationSplit</code> only evaluates each parameter choice once instead of multiple times over each of the $K$ fold in <code>CrossValidator</code>.  Therefore this estimator is not as expensive as cross validation,\n",
    "but can produce less reliable results when dataset isn't large enough.  See the <a href=\"https://spark.apache.org/docs/latest/ml-tuning.html#train-validation-split\">documenation</a> for more infromation."
   ]
  },
  {
   "cell_type": "code",
   "execution_count": 60,
   "metadata": {},
   "outputs": [
    {
     "data": {
      "text/plain": [
       "[StopWordsRemover_423599bec5871e3ffed4,\n",
       " NGram_4502beb9404a4311b4d3,\n",
       " CountVectorizer_4a988db9b1e4fcfac4fe,\n",
       " IDF_4240bcd585ec2afbe47c,\n",
       " LogisticRegression_4232bcf280c352f5096b]"
      ]
     },
     "execution_count": 60,
     "metadata": {},
     "output_type": "execute_result"
    }
   ],
   "source": [
    "bestModel.stages"
   ]
  },
  {
   "cell_type": "code",
   "execution_count": 62,
   "metadata": {},
   "outputs": [
    {
     "data": {
      "text/plain": [
       "'minDF: Specifies the minimum number of different documents a term must appear in to be included in the vocabulary. If this is an integer >= 1, this specifies the number of documents the term must appear in; if this is a double in [0,1), then this specifies the fraction of documents. (default: 1.0, current: 5.0)'"
      ]
     },
     "execution_count": 62,
     "metadata": {},
     "output_type": "execute_result"
    }
   ],
   "source": [
    "bestModel.stages[2].explainParam('minDF')"
   ]
  },
  {
   "cell_type": "code",
   "execution_count": 63,
   "metadata": {},
   "outputs": [],
   "source": [
    "summary = bestModel.stages[-1].summary"
   ]
  },
  {
   "cell_type": "code",
   "execution_count": 64,
   "metadata": {},
   "outputs": [
    {
     "name": "stderr",
     "output_type": "stream",
     "text": [
      "/usr/local/envs/py3env/lib/python3.5/site-packages/matplotlib/font_manager.py:1320: UserWarning: findfont: Font family ['sans-serif'] not found. Falling back to DejaVu Sans\n",
      "  (prop.get_family(), self.defaultFamily[fontext]))\n"
     ]
    },
    {
     "data": {
      "image/png": "[encoded data removed]",
      "text/plain": [
       "<matplotlib.figure.Figure at 0x7ff5c00921d0>"
      ]
     },
     "metadata": {},
     "output_type": "display_data"
    }
   ],
   "source": [
    "import matplotlib.pyplot as plt\n",
    "\n",
    "plt.figure(figsize=(6,6))\n",
    "plt.plot([0, 1], [0, 1], 'r--')\n",
    "plt.plot(summary.roc.select('FPR').collect(),\n",
    "         summary.roc.select('TPR').collect())\n",
    "plt.xlabel('False Positive Rare')\n",
    "plt.ylabel('True Positive Rate')\n",
    "plt.title(\"ROC Curve\")\n",
    "plt.show()"
   ]
  },
  {
   "cell_type": "code",
   "execution_count": 65,
   "metadata": {},
   "outputs": [],
   "source": [
    "bestModel.save(\"model\")"
   ]
  },
  {
   "cell_type": "code",
   "execution_count": 66,
   "metadata": {},
   "outputs": [],
   "source": [
    "import os"
   ]
  },
  {
   "cell_type": "code",
   "execution_count": 67,
   "metadata": {},
   "outputs": [
    {
     "data": {
      "text/plain": [
       "0"
      ]
     },
     "execution_count": 67,
     "metadata": {},
     "output_type": "execute_result"
    }
   ],
   "source": [
    "os.system(\"hdfs dfs -get model\")"
   ]
  },
  {
   "cell_type": "code",
   "execution_count": 73,
   "metadata": {},
   "outputs": [
    {
     "name": "stdout",
     "output_type": "stream",
     "text": [
      "Accuracy: 0.8788837368165834\n"
     ]
    }
   ],
   "source": [
    "print(\"Accuracy: {}\".format(summary.accuracy))"
   ]
  },
  {
   "cell_type": "markdown",
   "metadata": {},
   "source": [
    "## Conclusions <a class=\"anchor\" id=\"bullet7\"></a>\n",
    "----------------------"
   ]
  },
  {
   "cell_type": "code",
   "execution_count": null,
   "metadata": {},
   "outputs": [],
   "source": []
  },
  {
   "cell_type": "code",
   "execution_count": null,
   "metadata": {},
   "outputs": [],
   "source": []
  },
  {
   "cell_type": "code",
   "execution_count": null,
   "metadata": {},
   "outputs": [],
   "source": []
  }
 ],
 "metadata": {
  "kernelspec": {
   "display_name": "Python 3",
   "language": "python",
   "name": "python3"
  },
  "language_info": {
   "codemirror_mode": {
    "name": "ipython",
    "version": 3
   },
   "file_extension": ".py",
   "mimetype": "text/x-python",
   "name": "python",
   "nbconvert_exporter": "python",
   "pygments_lexer": "ipython3",
   "version": "3.6.7"
  }
 },
 "nbformat": 4,
 "nbformat_minor": 2
}
